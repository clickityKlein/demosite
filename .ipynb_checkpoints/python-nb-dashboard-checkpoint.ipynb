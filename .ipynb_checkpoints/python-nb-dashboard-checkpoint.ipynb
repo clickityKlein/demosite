{
 "cells": [
  {
   "cell_type": "code",
   "execution_count": null,
   "id": "bc13673a",
   "metadata": {},
   "outputs": [],
   "source": [
    "---\n",
    "title: \"IPYNB Testing Page\"\n",
    "author: Carl Klein\n",
    "format: dashboard\n",
    "---"
   ]
  },
  {
   "cell_type": "markdown",
   "id": "9a87f5a3",
   "metadata": {},
   "source": [
    "## Row {height=60%}"
   ]
  },
  {
   "cell_type": "code",
   "execution_count": 1,
   "id": "1a260ccf",
   "metadata": {},
   "outputs": [
    {
     "data": {
      "text/plain": [
       "2"
      ]
     },
     "execution_count": 1,
     "metadata": {},
     "output_type": "execute_result"
    }
   ],
   "source": [
    "1+1"
   ]
  },
  {
   "cell_type": "code",
   "execution_count": 2,
   "id": "a780a374",
   "metadata": {},
   "outputs": [
    {
     "data": {
      "text/plain": [
       "160"
      ]
     },
     "execution_count": 2,
     "metadata": {},
     "output_type": "execute_result"
    }
   ],
   "source": [
    "32*5"
   ]
  },
  {
   "cell_type": "markdown",
   "id": "07bb8736",
   "metadata": {},
   "source": [
    "## Row {height=60%}"
   ]
  },
  {
   "cell_type": "code",
   "execution_count": 3,
   "id": "c563472f",
   "metadata": {},
   "outputs": [
    {
     "data": {
      "text/plain": [
       "5.0"
      ]
     },
     "execution_count": 3,
     "metadata": {},
     "output_type": "execute_result"
    }
   ],
   "source": [
    "15/3"
   ]
  }
 ],
 "metadata": {
  "kernelspec": {
   "display_name": "Python 3 (ipykernel)",
   "language": "python",
   "name": "python3"
  },
  "language_info": {
   "codemirror_mode": {
    "name": "ipython",
    "version": 3
   },
   "file_extension": ".py",
   "mimetype": "text/x-python",
   "name": "python",
   "nbconvert_exporter": "python",
   "pygments_lexer": "ipython3",
   "version": "3.9.18"
  }
 },
 "nbformat": 4,
 "nbformat_minor": 5
}
